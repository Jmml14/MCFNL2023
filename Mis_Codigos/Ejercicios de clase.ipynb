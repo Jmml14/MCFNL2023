{
 "cells": [
  {
   "cell_type": "markdown",
   "id": "55557581",
   "metadata": {},
   "source": [
    "# Ejercicio 1.1"
   ]
  },
  {
   "cell_type": "code",
   "execution_count": null,
   "id": "cdd5a98b",
   "metadata": {},
   "outputs": [],
   "source": [
    "import numpy as np\n",
    "from numpy.fft import fft, fftfreq, fftshift\n",
    "\n",
    "t = np.linspace(0, 10e-9, num = 1001)\n",
    "dt = t[1] - t[0]\n",
    "t_0 = 4e-9\n",
    "s_0 = 1e-9\n",
    "f_t = np.exp(-pow(t-t_0,2)/(2*s_0**2))\n",
    "#f_t = 2*np.sin(2*np.pi*t)\n",
    "\n",
    "import matplotlib.pyplot as plt\n",
    "\n",
    "plt.figure()\n",
    "plt.plot(t,f_t, 'b')\n",
    "plt.grid()\n",
    "\n",
    "plt.figure()\n",
    "freq = fftshift( fftfreq(len(f_t), d = dt) ) # fftshift reordena las frecuencias (de forma general fft las devuelve al revés)\n",
    "fdf_t = fftshift( fft(f_t) )\n",
    "\n",
    "plt.plot(freq, np.abs(fdf_t), 'b')\n",
    "plt.grid()"
   ]
  },
  {
   "cell_type": "markdown",
   "id": "835f9e0e",
   "metadata": {},
   "source": [
    "Vamos a generar animaciones de una gaussiana que se desplaza hacia una dirección. Se ha hecho en Animation.py"
   ]
  },
  {
   "cell_type": "markdown",
   "id": "c22164ef",
   "metadata": {},
   "source": [
    "# Esquema fdt de las ecuaciones de Maxwell"
   ]
  },
  {
   "cell_type": "markdown",
   "id": "bb6cc2fa",
   "metadata": {},
   "source": [
    "Las ecuaciones de Maxwell en una dimenesión se pueden expresar como:\n",
    "\n",
    "\\begin{equation}\n",
    "    \\mu\\partial_t H + \\partial_x E = 0\n",
    "    \\nonumber\n",
    "\\end{equation}\n",
    "\n",
    "\\begin{equation}\n",
    "    \\varepsilon\\partial_t E + \\partial_x H = 0\n",
    "    \\nonumber\n",
    "\\end{equation}"
   ]
  },
  {
   "attachments": {},
   "cell_type": "markdown",
   "id": "80d35ce1",
   "metadata": {},
   "source": [
    "Discretizando las ecuaciones usando la aproximación central, obtenemos la siguiente ecuación\n",
    "\n",
    "\\begin{equation}\n",
    "    H^{n+\\frac{1}{2}}_{i+\\frac{1}{2}} = H^{n-\\frac{1}{2}}_{i+\\frac{1}{2}} + \\frac{\\Delta t}{\\Delta x\\mu}\\left( E^{n}_{i+1} - E^{n}_{i-1}\\right)\n",
    "    \\nonumber\n",
    "\\end{equation}\n",
    "\n",
    "\\begin{equation}\n",
    "    E^{n}_{i} = E^{n-1}_{i} + \\frac{\\Delta t}{\\Delta x \\varepsilon}\\left( H^{n-\\frac{1}{2}}_{i+\\frac{1}{2}} - H^{n-\\frac{1}{2}}_{i-\\frac{1}{2}}\\right)\n",
    "    \\nonumber\n",
    "\\end{equation}"
   ]
  },
  {
   "cell_type": "markdown",
   "id": "48b2013e",
   "metadata": {},
   "source": [
    "Definimos primero las constantes del problema"
   ]
  },
  {
   "cell_type": "code",
   "execution_count": null,
   "id": "9d8a1cbe",
   "metadata": {},
   "outputs": [],
   "source": [
    "import numpy as np\n",
    "\n",
    "eps = 1\n",
    "mu = 1\n",
    "c = 1/np.sqrt(mu*eps)"
   ]
  },
  {
   "cell_type": "markdown",
   "id": "cb5e7476",
   "metadata": {},
   "source": [
    "Ahora, construimos el grid primario (en el que vive E) y el secundario (En el que vive H)"
   ]
  },
  {
   "cell_type": "code",
   "execution_count": null,
   "id": "064b052b",
   "metadata": {},
   "outputs": [],
   "source": [
    "N = 101\n",
    "\n",
    "x_m = np.linspace(0, 10, N) # grid primario (main)\n",
    "x_d = (x_m[1:] + x_m[:-1])/2 # En esta construcción es claro que el campo magnético tiene un nodo menos que el eléctrico\n",
    "\n",
    "dx = x_m[1] - x_m[0] # Definimos el paso espacial\n"
   ]
  },
  {
   "cell_type": "code",
   "execution_count": null,
   "id": "bf90be47",
   "metadata": {},
   "outputs": [],
   "source": [
    "x_0 = 3\n",
    "s_0 = 0.75\n",
    "\n",
    "E = np.exp(-pow(x_m-x_0,2)/(2*s_0**2))\n",
    "H = np.zeros(x_d.shape) \n",
    "E_new = np.zeros(E.shape)\n",
    "H_new = np.zeros(H.shape)\n",
    "\n",
    "import matplotlib.pyplot as plt\n",
    "\n",
    "plt.figure()\n",
    "plt.plot(x_m, E, 'b.-')\n",
    "plt.plot(x_d, H, 'r.-')\n",
    "plt.title('Condición inicial de $E(t,x)$ y $H(t,x)$')\n",
    "plt.xlabel('x (m)')\n",
    "plt.ylabel('$E(t,x)$ $H(t,x)$')\n",
    "plt.grid()"
   ]
  },
  {
   "cell_type": "markdown",
   "id": "18cde2c8",
   "metadata": {},
   "source": [
    "Evolucionamos el sistema"
   ]
  },
  {
   "cell_type": "code",
   "execution_count": null,
   "id": "1da762da",
   "metadata": {},
   "outputs": [],
   "source": [
    "CFL = 0.4 # condición CFL de estabilidad\n",
    "\n",
    "dt = CFL * dx / c\n",
    "\n",
    "t_range = np.arange(0, 2*dt, dt)\n",
    "\n",
    "for t in t_range:\n",
    "\n",
    "    E_new[1:-1] = E[1:-1] - (dt / dx / eps)*( H[1:] - H[:-1] )\n",
    "    E[1:-1] = E_new[1:-1]\n",
    "    H_new[:]    = H[:]    - (dt / dx / mu) *( E_new[1:] - E_new[:-1] )\n",
    "    H[:] = H_new[:]\n",
    "\n",
    "    plt.plot(x_m, E, 'b.-')\n",
    "    plt.plot(x_d, H, 'r.-')\n",
    "    plt.grid()\n",
    "    plt.ylim(-0.1, 1.1)\n",
    "    plt.xlim(x_m[0], x_m[-1])\n",
    "    plt.pause(0.1)\n",
    "    plt.cla()"
   ]
  },
  {
   "cell_type": "markdown",
   "id": "9e0bfcad",
   "metadata": {},
   "source": [
    "Vamos a estudiar ahora algunas variaciones del problema. Veremos qué ocurre al cambiar $\\varepsilon$, $\\mu$ y $\\sigma$.\n",
    "\n",
    "Las ecuaciones de Maxwell en una dimensión en el caso de ser un medio conductor:\n",
    "\n",
    "\\begin{equation}\n",
    "    \\mu\\partial_t H + \\partial_x E = 0\n",
    "    \\nonumber\n",
    "\\end{equation}\n",
    "\n",
    "\\begin{equation}\n",
    "    \\sigma E + \\varepsilon\\partial_t E + \\partial_x H = 0\n",
    "\\end{equation}"
   ]
  },
  {
   "cell_type": "markdown",
   "id": "e0ba672d",
   "metadata": {},
   "source": [
    "Si discretizamos la ecuación $(1)$ obtenemos la ecuación:\n",
    "\n",
    "\\begin{equation}\n",
    "    \\sigma_i E^{n-\\frac{1}{2}}_i + \\varepsilon_i \\frac{E^{n}_{i} - E^{n-1}_{i}}{\\Delta t} = -\\frac{ H^{n+\\frac{1}{2}}_{i+\\frac{1}{2}} - H^{n+\\frac{1}{2}}_{i-\\frac{1}{2}}}{\\Delta x}\n",
    "    \\nonumber\n",
    "\\end{equation}"
   ]
  },
  {
   "cell_type": "markdown",
   "id": "38bf1294",
   "metadata": {},
   "source": [
    "Podemos aplicar el operador media al término $E^{n-\\frac{1}{2}}_i$ ya que así obtendríamos el cmapo en función de su valor en $n-1$ y $n$.\n",
    "\n",
    "\\begin{equation}\n",
    "    E^{n-\\frac{1}{2}}_i = \\frac{E^{n}_i+E^{n-1}_i}{2}\n",
    "    \\nonumber\n",
    "\\end{equation}"
   ]
  },
  {
   "cell_type": "markdown",
   "id": "e93b3fc4",
   "metadata": {},
   "source": [
    "Finalmente despejamos el sistema y obtenemos la siguiente ecuación:\n",
    "\n",
    "\\begin{equation}\n",
    "    E^{n}_i = -\\frac{\\alpha}{\\beta}E^{n-1}_i-\\frac{1}{\\Delta x \\alpha}\\left( H^{n+\\frac{1}{2}}_{i+\\frac{1}{2}} - H^{n+\\frac{1}{2}}_{i-\\frac{1}{2}} \\right) \n",
    "    \\nonumber\n",
    "\\end{equation}\n",
    "\n",
    "Donde $\\alpha$ y $\\beta$ son\n",
    "\n",
    "\\begin{equation}\n",
    "    \\alpha = \\left(\\frac{\\sigma_i}{2} + \\frac{\\varepsilon_i}{\\Delta t} \\right), \\beta = \\left(\\frac{\\sigma_i}{2} - \\frac{\\varepsilon_i}{\\Delta t} \\right)\n",
    "\\end{equation}\n"
   ]
  },
  {
   "cell_type": "markdown",
   "id": "b32d8751",
   "metadata": {},
   "source": [
    "Si introducimos la condición incial para el campo magnético y eléctrico, observamos una pequeña onda hacia detrás. esto ocurre porque el campo magnético vive en un paso $\\frac{\\Delta t}{2}$ anterior al eléctrico."
   ]
  },
  {
   "cell_type": "markdown",
   "id": "15e5a7ed",
   "metadata": {},
   "source": [
    "# Condiciones de contorno"
   ]
  },
  {
   "attachments": {},
   "cell_type": "markdown",
   "id": "0d3bcff5",
   "metadata": {},
   "source": [
    "Las condiciones que hemos usado hasta ahora son las de `un conductor electrico perfecto` `(PEC)` en el contorno. Lo que hacemos es suponer que en el medio 2 el campo eléctrico $\\vec{E_2}$ es cero es 0.\n",
    "\n",
    "\\begin{equation}\n",
    "    \\hat{n} \\times (\\vec{E_2}-\\vec{E_1}) = 0 \\rightarrow \\hat{n} \\times \\vec{E} = 0\n",
    "    \\nonumber\n",
    "\\end{equation}\n",
    "\n",
    "En el esquema fdtd lo que hacemos simplemente es fijar en los extremos del intervalo el valor del campo eléctrico a 0.\n",
    "\n",
    "\\begin{equation}\n",
    "    E_{0}^{n+1} = 0\n",
    "    \\nonumber\n",
    "\\end{equation}\n",
    "\n",
    "Otra condición posible sería la de un `un conductor magnético perfecto` `(PMC)` en el contorno. Aunque no existe en la realidad es útil para reducir la superficie de simulación usando también el PEC (Se puede ver usando la idea del método de las imágenes).\n",
    "\n",
    "\\begin{equation}\n",
    "    \\hat{n} \\times (\\vec{H_2}-\\vec{H_1}) = \\vec{J} \\rightarrow \\hat{n} \\times \\vec{H} = 0\n",
    "    \\nonumber\n",
    "\\end{equation}\n",
    "\n",
    "Para implementar esta condición en el esquema fdtd lo que hacemos es partir de la Ley de Ampere discretizada y decir que el valor $H_{-\\frac{1}{2}}^{n+\\frac{1}{2}}$ (que no existe) vale lo mismo que $H_{+\\frac{1}{2}}^{n+\\frac{1}{2}}$ para uqe al hacer la aproximación de la media el campo en el contorno nos de 0 por lo que la condición que debe cumplirse es\n",
    "\n",
    "\\begin{equation}\n",
    "    E_{i = 0}^{n+1} = 0...\n",
    "    \\nonumber\n",
    "\\end{equation}\n",
    "\n",
    "Otra condición sería una `absorvente`, esta codnción se conoce como `condición absorvente de Mur`. Consiste en discretizar en $i = \\frac{1}{2}$ y de imponer la condición de que las ondas no se reflejan\n",
    "\n",
    "\\begin{equation}\n",
    "    (\\partial_n + c_0^{-1} \\partial_t)(\\hat{n} \\times \\vec{E}) = 0\n",
    "    \\nonumber\n",
    "\\end{equation}\n",
    "\n",
    "Que al discretizarlo en $x = 0$ se traduce en\n",
    "\n",
    "\\begin{equation}\n",
    "    \\frac{ E^{n+\\frac{1}{2}}_{1} - E^{n+\\frac{1}{2}}_{0}}{\\Delta x} + c_0^{-1} \\frac{E^{n}_{\\frac{1}{2}} - E^{n-1}_{\\frac{1}{2}}}{\\Delta t}=0\n",
    "    \\nonumber\n",
    "\\end{equation}"
   ]
  },
  {
   "cell_type": "markdown",
   "id": "99b6e26a",
   "metadata": {},
   "source": [
    "# Error asociado al esquema fdtd"
   ]
  },
  {
   "attachments": {},
   "cell_type": "markdown",
   "id": "61b14aa2",
   "metadata": {},
   "source": [
    "Si $f(v)$ es una función harmónica de la forma $Acos(2\\pi/\\lambda_v v)$ el error comentido en la aproximación central de la derivada \n",
    "y en la aproximación de la media de $f(v)$ viene dada por\n",
    "\n",
    "\\begin{equation}\n",
    "    \\Delta f_v = \\frac{\\pi^2}{6}\\frac{1}{\\lambda_v^2} \\left(\\Delta v\\right)^2\n",
    "    \\nonumber\n",
    "\\end{equation}\n",
    "\n",
    "\\begin{equation}\n",
    "    \\Delta E\\left[f \\right] = 3\\Delta f_v = \\frac{\\pi^2}{2}\\frac{1}{\\lambda_v^2} \\left(\\Delta v\\right)^2\n",
    "    \\nonumber\n",
    "\\end{equation}"
   ]
  },
  {
   "cell_type": "markdown",
   "id": "454d0c30",
   "metadata": {},
   "source": [
    "# Relación de dispersión"
   ]
  },
  {
   "cell_type": "markdown",
   "id": "64c8bba3",
   "metadata": {},
   "source": [
    "Escribimos las ecuaciones de maxwell como:\n",
    "\n",
    "\\begin{equation}\n",
    "    \\left(\\Lambda_t-\\Lambda_r\\right)\\psi = 0\n",
    "\\end{equation}\n",
    "\n",
    "con\n",
    "\n",
    "\\begin{matrix}\n",
    "    \\Lambda_t = \\left( \\right)\n",
    "\\end{matrix}\n",
    "Podemos discretizar $\\psi = \\psi_{i,j,k}^n$"
   ]
  },
  {
   "cell_type": "code",
   "execution_count": null,
   "id": "e94fc1be",
   "metadata": {},
   "outputs": [],
   "source": []
  }
 ],
 "metadata": {
  "kernelspec": {
   "display_name": "Python 3 (ipykernel)",
   "language": "python",
   "name": "python3"
  },
  "language_info": {
   "codemirror_mode": {
    "name": "ipython",
    "version": 3
   },
   "file_extension": ".py",
   "mimetype": "text/x-python",
   "name": "python",
   "nbconvert_exporter": "python",
   "pygments_lexer": "ipython3",
   "version": "3.10.5"
  }
 },
 "nbformat": 4,
 "nbformat_minor": 5
}
